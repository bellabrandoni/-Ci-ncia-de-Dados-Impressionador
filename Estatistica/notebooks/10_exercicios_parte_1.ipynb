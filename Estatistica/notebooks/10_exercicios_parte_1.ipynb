{
 "cells": [
  {
   "cell_type": "markdown",
   "metadata": {},
   "source": [
    "# Exercícios"
   ]
  },
  {
   "cell_type": "markdown",
   "metadata": {},
   "source": [
    "Classificar as variáveis a seguir segundo as seguintes escalas: nominal, ordinal, binária, discreta ou contínua.\n",
    "\n",
    "```\n",
    "a. Faturamento da empresa.\n",
    "Quantitativa - razão/contínuas: assumem valores reais e infinitos. \n",
    "b. Ranking de desempenho: bom, médio e ruim.\n",
    "Qualitativa ordinal/policotômicas: possuem mais de duas categorias.\n",
    "e. Tempo de processamento de uma peça.\n",
    "Qualitativa razão/contínuas: assumem valores reais e infinitos. \n",
    "d. Número de carros vendidos.\n",
    "Quantitativa -discretas: assumem valores inteiros e finitos.\n",
    "e. Distância percorrida em km.\n",
    "Quantitativa contínuas: assumem valores reais e infinitos.\n",
    "f. Municípios da Grande São Paulo.\n",
    "Escala Qualitativa nominal/policotomincas: possuem mais de duas categorias.\n",
    "g. Faixa de renda.\n",
    "Qualitativa ordinal(baixa renda/ alta renda...)\n",
    "h. Notas de um aluno: A, B, C, D, ou E.\n",
    "Qualitativa Ordinal(A maior nota, E menor nota...)\n",
    "i. Horas trabalhadas.\n",
    "Quantitativa - contínuas: assumem valores reais e infinitos.\n",
    "j. Região: Norte, Nordeste, Centro-Oeste, Sul e Sudeste.\n",
    "Qualitativa Nominal/plicotomicas: possuem mais de duas categorias.\n",
    "k. Tamanho da organização: pequeno, médio e grande porte.\n",
    "Qualitativa Ordinal\n",
    "l. Número de quartos em um hotel.\n",
    "Quantitativa -discretas: assumem valores inteiros e finitos.\n",
    "m. Classificação de risco: elevado, médio, especulativo, substancial, em moratória.\n",
    "Qualitativa ordinal\n",
    "n. Casado: sim ou não.\n",
    "Qualitativa nominal-binária\n",
    "```\n"
   ]
  },
  {
   "cell_type": "markdown",
   "metadata": {},
   "source": []
  }
 ],
 "metadata": {
  "kernelspec": {
   "display_name": "Python 3 (ipykernel)",
   "language": "python",
   "name": "python3"
  },
  "language_info": {
   "codemirror_mode": {
    "name": "ipython",
    "version": 3
   },
   "file_extension": ".py",
   "mimetype": "text/x-python",
   "name": "python",
   "nbconvert_exporter": "python",
   "pygments_lexer": "ipython3",
   "version": "3.10.9"
  }
 },
 "nbformat": 4,
 "nbformat_minor": 4
}
